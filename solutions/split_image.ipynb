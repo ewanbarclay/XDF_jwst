{
 "cells": [
  {
   "cell_type": "code",
   "execution_count": 1,
   "metadata": {},
   "outputs": [],
   "source": [
    "import numpy as np\n",
    "from astropy.io import fits\n",
    "import matplotlib.pyplot as plt\n",
    "from astropy.nddata import Cutout2D"
   ]
  },
  {
   "cell_type": "code",
   "execution_count": 2,
   "metadata": {},
   "outputs": [],
   "source": [
    "image_dir = 'data' # define image directory relative to this script\n",
    "\n",
    "filters = [ 'f090w', 'f150w', 'f200w','f277w','f356w','f444w']\n",
    "\n",
    "for f in filters:\n",
    "    filename= f'{image_dir}/jw02736-o001_t001_nircam_clear-{f}_i2d_1overf.fits'\n",
    "    hdulist=fits.open(filename)\n",
    "    \n",
    "    outfile=f'{image_dir}/{f}_full_wht.fits'\n",
    "    hdulist[4].writeto(outfile, overwrite = True)\n",
    "    outfile2=f'{image_dir}/{f}_full_sci.fits'\n",
    "    hdulist[1].writeto(outfile2, overwrite = True)\n"
   ]
  },
  {
   "cell_type": "code",
   "execution_count": 3,
   "metadata": {
    "scrolled": false
   },
   "outputs": [],
   "source": [
    "for i in filters:\n",
    "    wht = fits.getdata(f'{image_dir}/{i}_full_wht.fits') # read FITS file data into numpy array\n",
    "   #plt.imshow(wht, cmap = 'binary')\n",
    "    position = (1280,3500)\n",
    "    size = (1660, 1660)     # pixels\n",
    "    cutout = Cutout2D(wht, position, size)\n",
    "    #plt.imshow(cutout.data, origin='lower',cmap = 'binary')\n",
    "\n",
    "    #plt.imshow(wht, origin='lower',cmap = 'binary')\n",
    "    #cutout.plot_on_original(color='white')\n",
    "    #plt.show()\n",
    "    \n",
    "    # Put the cutout image in the FITS HDU\n",
    "    hdulist[4].data = cutout.data\n",
    "\n",
    "    # Write the cutout to a new FITS file\n",
    "    cutout_filename = f'{image_dir}/{i}_wht.fits'\n",
    "    hdulist[4].writeto(cutout_filename, overwrite=True)"
   ]
  },
  {
   "cell_type": "code",
   "execution_count": 4,
   "metadata": {},
   "outputs": [],
   "source": [
    "for i in filters:\n",
    "    sci = fits.getdata(f'{image_dir}/{i}_full_sci.fits') # read FITS file data into numpy array\n",
    "    #plt.imshow(wht, cmap = 'binary')\n",
    "    position = (1280,3500)\n",
    "    size = (1660, 1660)     # pixels\n",
    "    cutout = Cutout2D(sci, position, size)\n",
    "    #plt.imshow(cutout.data, origin='lower',cmap = 'binary')\n",
    "\n",
    "    #plt.imshow(sci, origin='lower',cmap = 'binary')\n",
    "    #cutout.plot_on_original(color='white')\n",
    "    #plt.show()\n",
    "    \n",
    "    # Put the cutout image in the FITS HDU\n",
    "    hdulist[1].data = cutout.data\n",
    "\n",
    "    # Write the cutout to a new FITS file\n",
    "    cutout_filename1 = f'{image_dir}/{i}_sci.fits'\n",
    "    hdulist[1].writeto(cutout_filename1, overwrite=True)"
   ]
  }
 ],
 "metadata": {
  "kernelspec": {
   "display_name": "Python 3",
   "language": "python",
   "name": "python3"
  },
  "language_info": {
   "codemirror_mode": {
    "name": "ipython",
    "version": 3
   },
   "file_extension": ".py",
   "mimetype": "text/x-python",
   "name": "python",
   "nbconvert_exporter": "python",
   "pygments_lexer": "ipython3",
   "version": "3.8.3"
  }
 },
 "nbformat": 4,
 "nbformat_minor": 4
}

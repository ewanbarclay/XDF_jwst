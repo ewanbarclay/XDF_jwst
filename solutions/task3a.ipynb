{
 "cells": [
  {
   "cell_type": "markdown",
   "metadata": {},
   "source": [
    "# Task 3a Solution"
   ]
  },
  {
   "cell_type": "code",
   "execution_count": 1,
   "metadata": {},
   "outputs": [],
   "source": [
    "import numpy as np\n",
    "import matplotlib.pyplot as plt\n",
    "import pickle"
   ]
  },
  {
   "cell_type": "code",
   "execution_count": 2,
   "metadata": {},
   "outputs": [],
   "source": [
    "filters = [ 'f090w', 'f150w', 'f200w','f277w','f356w','f444w']"
   ]
  },
  {
   "cell_type": "code",
   "execution_count": 3,
   "metadata": {},
   "outputs": [],
   "source": [
    "cat = pickle.load(open('data/cat.p', 'rb'))  # read in signal catalogue created in task 2f"
   ]
  },
  {
   "cell_type": "code",
   "execution_count": 4,
   "metadata": {},
   "outputs": [],
   "source": [
    "fluxes = {f: cat[f'{f}_signal'] for f in filters} # convert to flux/nJy\n",
    "errors = {f: cat[f'{f}_noise'] for f in filters}"
   ]
  },
  {
   "cell_type": "code",
   "execution_count": 5,
   "metadata": {},
   "outputs": [],
   "source": [
    "r1 = fluxes['f150w']/fluxes['f200w'] # break colour (mag) - usually on y-axis\n",
    "r2 = fluxes['f090w']/fluxes['f150w'] # slope colour (mag) - usually on x-axis"
   ]
  },
  {
   "cell_type": "code",
   "execution_count": 6,
   "metadata": {},
   "outputs": [],
   "source": [
    "r1_errors = np.sqrt((r1**2)*((errors['f150w']**2/fluxes['f150w']**2)+(errors['f200w']**2/fluxes['f200w']**2)))  #add uncertainties using error propagation\n",
    "r2_errors = np.sqrt((r2**2)*((errors['f090w']**2/fluxes['f090w']**2)+(errors['f150w']**2/fluxes['f150w']**2)))"
   ]
  },
  {
   "cell_type": "code",
   "execution_count": 7,
   "metadata": {
    "scrolled": true
   },
   "outputs": [
    {
     "data": {
      "image/png": "[encoded data removed]",
      "text/plain": [
       "<Figure size 432x288 with 1 Axes>"
      ]
     },
     "metadata": {
      "needs_background": "light"
     },
     "output_type": "display_data"
    },
    {
     "data": {
      "text/plain": [
       "<Figure size 432x288 with 0 Axes>"
      ]
     },
     "metadata": {},
     "output_type": "display_data"
    }
   ],
   "source": [
    "#Plot all objects\n",
    "markers,caps,bars = plt.errorbar(r1, r2, xerr = r1_errors, yerr = r2_errors, fmt='o',markersize = 5, ecolor='black')\n",
    "[bar.set_alpha(0.4) for bar in bars]\n",
    "plt.xlim([-0.3,2])\n",
    "plt.ylim([-0.3,2])\n",
    "plt.show()\n",
    "plt.savefig('figures/3a.pdf')"
   ]
  }
 ],
 "metadata": {
  "kernelspec": {
   "display_name": "Python 3",
   "language": "python",
   "name": "python3"
  },
  "language_info": {
   "codemirror_mode": {
    "name": "ipython",
    "version": 3
   },
   "file_extension": ".py",
   "mimetype": "text/x-python",
   "name": "python",
   "nbconvert_exporter": "python",
   "pygments_lexer": "ipython3",
   "version": "3.8.3"
  }
 },
 "nbformat": 4,
 "nbformat_minor": 2
}

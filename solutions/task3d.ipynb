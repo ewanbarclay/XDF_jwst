{
 "cells": [
  {
   "cell_type": "markdown",
   "metadata": {},
   "source": [
    "# Task 3d Solution"
   ]
  },
  {
   "cell_type": "markdown",
   "metadata": {},
   "source": [
    "--- In this example you will learn to approproately combine (stack) different images"
   ]
  },
  {
   "cell_type": "code",
   "execution_count": 1,
   "metadata": {},
   "outputs": [],
   "source": [
    "import numpy as np\n",
    "from astropy.io import fits\n",
    "import matplotlib.pyplot as plt"
   ]
  },
  {
   "cell_type": "code",
   "execution_count": 2,
   "metadata": {},
   "outputs": [],
   "source": [
    "save = False"
   ]
  },
  {
   "cell_type": "markdown",
   "metadata": {},
   "source": [
    "--- combine (stack) a list of images together"
   ]
  },
  {
   "cell_type": "code",
   "execution_count": 3,
   "metadata": {},
   "outputs": [],
   "source": [
    "image_dir = 'data' # image directory relative to this script"
   ]
  },
  {
   "cell_type": "code",
   "execution_count": 4,
   "metadata": {},
   "outputs": [],
   "source": [
    "filters = [ 'f090w', 'f150w', 'f200w','f277w','f356w','f444w']\n",
    "detection_filters = ['f090w', 'f150w', 'f200w','f277w','f356w','f444w'] # list of images to combine (stack)"
   ]
  },
  {
   "cell_type": "code",
   "execution_count": 5,
   "metadata": {},
   "outputs": [],
   "source": [
    "sci = {f: fits.getdata(f'{image_dir}/{f}_sci.fits') for f in filters} # read sci images\n",
    "wht = {f: fits.getdata(f'{image_dir}/{f}_wht.fits') for f in filters} # read weight images"
   ]
  },
  {
   "cell_type": "code",
   "execution_count": 6,
   "metadata": {},
   "outputs": [],
   "source": [
    "shape = next(iter(sci.values())).shape\n",
    "combined_sci = np.zeros(shape)\n",
    "combined_wht = np.zeros(shape)"
   ]
  },
  {
   "cell_type": "code",
   "execution_count": 7,
   "metadata": {},
   "outputs": [],
   "source": [
    "for f in detection_filters:\n",
    "    combined_sci += sci[f]*wht[f]\n",
    "    combined_wht += wht[f]"
   ]
  },
  {
   "cell_type": "code",
   "execution_count": 8,
   "metadata": {},
   "outputs": [],
   "source": [
    "combined_sci /= combined_wht"
   ]
  },
  {
   "cell_type": "markdown",
   "metadata": {},
   "source": [
    "--- cut out a portion of the image for analysis"
   ]
  },
  {
   "cell_type": "code",
   "execution_count": 9,
   "metadata": {},
   "outputs": [],
   "source": [
    "x = 800                # pixel x-centre of cutout, must be an integer\n",
    "y = 800                # pixel y-centre of cutout, must be an integer\n",
    "r = 200"
   ]
  },
  {
   "cell_type": "code",
   "execution_count": 10,
   "metadata": {},
   "outputs": [],
   "source": [
    "combined_sci = combined_sci[x-r:x+r, y-r:y+r] # cutout a portion of the science image\n",
    "combined_wht = combined_wht[x-r:x+r, y-r:y+r] # cutout a portion of the weight image"
   ]
  },
  {
   "cell_type": "code",
   "execution_count": 11,
   "metadata": {},
   "outputs": [
    {
     "name": "stdout",
     "output_type": "stream",
     "text": [
      "(400, 400)\n"
     ]
    }
   ],
   "source": [
    "print(combined_sci.shape)"
   ]
  },
  {
   "cell_type": "markdown",
   "metadata": {},
   "source": [
    "--- define the noise in each pixel and make a significance map (signal/noise)"
   ]
  },
  {
   "cell_type": "code",
   "execution_count": 12,
   "metadata": {},
   "outputs": [],
   "source": [
    "noise = 1./np.sqrt(combined_wht) # conversion from weight to noise\n",
    "sig = combined_sci/noise # significance map"
   ]
  },
  {
   "cell_type": "markdown",
   "metadata": {},
   "source": [
    "--- now run segmentation on the image. Segmentation identifies groups of connected pixels which are all above some threshold."
   ]
  },
  {
   "cell_type": "code",
   "execution_count": 13,
   "metadata": {},
   "outputs": [],
   "source": [
    "from photutils import detect_sources"
   ]
  },
  {
   "cell_type": "code",
   "execution_count": 14,
   "metadata": {},
   "outputs": [],
   "source": [
    "threshold = 8 # require each pixel have a significance of >2.5 (since we're using the significance image)\n",
    "npixels = 5 # require at least 5 connected pixels"
   ]
  },
  {
   "cell_type": "code",
   "execution_count": 15,
   "metadata": {},
   "outputs": [],
   "source": [
    "segm = detect_sources(sig, threshold, npixels=npixels) # make segmentation image"
   ]
  },
  {
   "cell_type": "code",
   "execution_count": 16,
   "metadata": {},
   "outputs": [],
   "source": [
    "i = 18 # this corresponds to the object we found in the previous task 3b"
   ]
  },
  {
   "cell_type": "code",
   "execution_count": 17,
   "metadata": {},
   "outputs": [],
   "source": [
    "slices = segm.slices[i-1] # a pair of python slice objects NOTE: the -1 is necessary as slices are only provided for objects not the background. The first object would be segm.slices[0] NOT segm.slices[1] because of python indexing convention. BE CAREFUL."
   ]
  },
  {
   "cell_type": "markdown",
   "metadata": {},
   "source": [
    "setting the RGB filters"
   ]
  },
  {
   "cell_type": "code",
   "execution_count": 18,
   "metadata": {},
   "outputs": [],
   "source": [
    "f_RGB = {'R': ['f090w','f150w'], 'G': ['f200w','f277w'], 'B': ['f356w','f444w']} # define the images corresponding to the RGB channels"
   ]
  },
  {
   "cell_type": "markdown",
   "metadata": {},
   "source": [
    "cutting the images"
   ]
  },
  {
   "cell_type": "code",
   "execution_count": 19,
   "metadata": {},
   "outputs": [],
   "source": [
    "for f in filters:\n",
    "    sci[f] = sci[f][x-r:x+r, y-r:y+r]\n",
    "    wht[f] = wht[f][x-r:x+r, y-r:y+r]"
   ]
  },
  {
   "cell_type": "code",
   "execution_count": 20,
   "metadata": {},
   "outputs": [],
   "source": [
    "im_rgb = {'R': np.zeros(sci['f090w'].shape), 'G': np.zeros(sci['f090w'].shape), 'B': np.zeros(sci['f090w'].shape)}"
   ]
  },
  {
   "cell_type": "code",
   "execution_count": 21,
   "metadata": {},
   "outputs": [],
   "source": [
    "from matplotlib import cm"
   ]
  },
  {
   "cell_type": "code",
   "execution_count": 22,
   "metadata": {},
   "outputs": [],
   "source": [
    "for band in 'RGB':\n",
    "    combined_wht = 0.\n",
    "    for f in f_RGB[band]:\n",
    "        im_rgb[band] += sci[f]*wht[f]\n",
    "        combined_wht += wht[f]\n",
    "    im_rgb[band] /= combined_wht\n",
    "    vmin = 0 # exclude negative values (anything less than vmin gets mapped to vmin)\n",
    "    vmax =  np.percentile(im_rgb[band][~np.isnan(im_rgb[band])], 99) # exclude the brightest 1% of pixels (anything above gets mapped to that value)\n",
    "    norm = cm.colors.Normalize(vmin, vmax) # normalisation function\n",
    "    im_rgb[band] = norm(im_rgb[band]) # apply normalisation function\n",
    "    norm = np.NaN\n",
    "\n",
    "    # --- set masked values to zero\n",
    "    im_rgb[band] = np.ma.filled(im_rgb[band], 0.0) # return masked array with masked values set to 0.0 (this makes those pixels black)"
   ]
  },
  {
   "cell_type": "code",
   "execution_count": 23,
   "metadata": {},
   "outputs": [],
   "source": [
    "rgb = np.dstack((im_rgb['R'],im_rgb['G'],im_rgb['B'])) # stack images into a single array"
   ]
  },
  {
   "cell_type": "code",
   "execution_count": 24,
   "metadata": {},
   "outputs": [],
   "source": [
    "import matplotlib.pyplot as plt"
   ]
  },
  {
   "cell_type": "code",
   "execution_count": 25,
   "metadata": {},
   "outputs": [],
   "source": [
    "plot_filters = ['RGB', 'f090w', 'f150w', 'f200w','f277w','f356w','f444w']"
   ]
  },
  {
   "cell_type": "code",
   "execution_count": 26,
   "metadata": {},
   "outputs": [],
   "source": [
    "n = len(plot_filters)"
   ]
  },
  {
   "cell_type": "code",
   "execution_count": 27,
   "metadata": {},
   "outputs": [
    {
     "name": "stderr",
     "output_type": "stream",
     "text": [
      "Clipping input data to the valid range for imshow with RGB data ([0..1] for floats or [0..255] for integers).\n"
     ]
    },
    {
     "data": {
      "image/png": "[encoded data removed]",
      "text/plain": [
       "<Figure size 2016x288 with 7 Axes>"
      ]
     },
     "metadata": {
      "needs_background": "light"
     },
     "output_type": "display_data"
    }
   ],
   "source": [
    "fig, axes = plt.subplots(1, n, figsize = (4*n,4))\n",
    "plt.subplots_adjust(left=0, top=0.95, bottom=0, right=1, wspace=0.01, hspace=0.01)\n",
    "\n",
    "for ax, filter in zip(axes, plot_filters):\n",
    "    if filter == 'RGB':\n",
    "        ax.set_axis_off()\n",
    "        ax.imshow(rgb[slices], origin='lower')\n",
    "        ax.set_title(filter, size=20)\n",
    "    else:\n",
    "        noise = 1/np.sqrt(wht[filter][slices])\n",
    "        sig = (sci[filter][slices]/noise)\n",
    "        ax.set_axis_off()\n",
    "        ax.imshow(sig, cmap = cm.Greys, vmin = -5.0, vmax = 5.0, origin = 'lower')\n",
    "        ax.imshow(np.ma.masked_where(sig <= threshold, sig), cmap = cm.plasma, vmin = 5, vmax = 20, origin = 'lower')\n",
    "        ax.set_title(filter, size=20)\n",
    "        \n",
    "plt.savefig('figures/stamps.png')\n",
    "plt.show()"
   ]
  }
 ],
 "metadata": {
  "kernelspec": {
   "display_name": "Python 3",
   "language": "python",
   "name": "python3"
  },
  "language_info": {
   "codemirror_mode": {
    "name": "ipython",
    "version": 3
   },
   "file_extension": ".py",
   "mimetype": "text/x-python",
   "name": "python",
   "nbconvert_exporter": "python",
   "pygments_lexer": "ipython3",
   "version": "3.8.3"
  }
 },
 "nbformat": 4,
 "nbformat_minor": 2
}

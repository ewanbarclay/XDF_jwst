{
 "cells": [
  {
   "cell_type": "markdown",
   "metadata": {},
   "source": [
    "# Task 3b Solution"
   ]
  },
  {
   "cell_type": "code",
   "execution_count": 1,
   "metadata": {},
   "outputs": [],
   "source": [
    "import numpy as np\n",
    "import matplotlib.pyplot as plt\n",
    "import pickle"
   ]
  },
  {
   "cell_type": "code",
   "execution_count": 2,
   "metadata": {},
   "outputs": [],
   "source": [
    "filters = [ 'f090w', 'f150w', 'f200w','f277w','f356w','f444w']"
   ]
  },
  {
   "cell_type": "code",
   "execution_count": 3,
   "metadata": {},
   "outputs": [],
   "source": [
    "cat = pickle.load(open('data/cat.p', 'rb'))  # read in signal catalogue"
   ]
  },
  {
   "cell_type": "code",
   "execution_count": 4,
   "metadata": {},
   "outputs": [],
   "source": [
    "fluxes = {f: cat[f'{f}_signal'] for f in filters} \n",
    "errors = {f: cat[f'{f}_noise']  for f in filters}"
   ]
  },
  {
   "cell_type": "code",
   "execution_count": 5,
   "metadata": {},
   "outputs": [],
   "source": [
    "r1 = fluxes['f150w']/fluxes['f200w'] # break colour (mag) - usually on y-axis\n",
    "r2 = fluxes['f090w']/fluxes['f150w'] # slope colour (mag) - usually on x-axis"
   ]
  },
  {
   "cell_type": "markdown",
   "metadata": {},
   "source": [
    "--- plot all objects"
   ]
  },
  {
   "cell_type": "code",
   "execution_count": 6,
   "metadata": {},
   "outputs": [
    {
     "data": {
      "image/png": "[encoded data removed]",
      "text/plain": [
       "<Figure size 432x288 with 1 Axes>"
      ]
     },
     "metadata": {
      "needs_background": "light"
     },
     "output_type": "display_data"
    }
   ],
   "source": [
    "plt.scatter(r1, r2, s=2, c='k', alpha=0.2)\n",
    "\n",
    "plt.xlim([-0.3,2])\n",
    "plt.ylim([-0.3,2])\n",
    "plt.show()"
   ]
  },
  {
   "cell_type": "markdown",
   "metadata": {},
   "source": [
    "--- define objects meeting the selection according to the criteria given in the script"
   ]
  },
  {
   "cell_type": "code",
   "execution_count": 7,
   "metadata": {},
   "outputs": [],
   "source": [
    "SN_limit = 10.\n",
    "s_flux = (fluxes['f200w']/errors['f200w']>SN_limit)"
   ]
  },
  {
   "cell_type": "code",
   "execution_count": 8,
   "metadata": {},
   "outputs": [],
   "source": [
    "#opt_SN_limit = 2.\n",
    "#s_opt = (fluxes['f435w']/errors['f435w']<2)&(fluxes['f606w']/errors['f606w']<2)&(fluxes['f775w']/errors['f775w']<2)"
   ]
  },
  {
   "cell_type": "code",
   "execution_count": 9,
   "metadata": {},
   "outputs": [],
   "source": [
    "c_cut = (0.75, 0.4)\n",
    "s_col = (r1>c_cut[0]) & (r2<c_cut[1])"
   ]
  },
  {
   "cell_type": "code",
   "execution_count": 10,
   "metadata": {},
   "outputs": [],
   "source": [
    "s = s_flux & s_col # --- combine all selections together"
   ]
  },
  {
   "cell_type": "markdown",
   "metadata": {},
   "source": [
    "---Plot selection window and any objects that fall inside window"
   ]
  },
  {
   "cell_type": "code",
   "execution_count": 11,
   "metadata": {},
   "outputs": [
    {
     "data": {
      "image/png": "[encoded data removed]",
      "text/plain": [
       "<Figure size 432x288 with 1 Axes>"
      ]
     },
     "metadata": {
      "needs_background": "light"
     },
     "output_type": "display_data"
    }
   ],
   "source": [
    "plt.scatter(r1[s], r2[s], s=10, c='k')\n",
    "plt.fill_between([c_cut[0], 5], [c_cut[1]]*2, [-2]*2, color='k', alpha=0.1)\n",
    "plt.xlim([-0.3,2])\n",
    "plt.ylim([-0.3,2])\n",
    "plt.show()"
   ]
  },
  {
   "cell_type": "markdown",
   "metadata": {},
   "source": [
    "--- print the segmentation map IDs of the candidates"
   ]
  },
  {
   "cell_type": "code",
   "execution_count": 12,
   "metadata": {},
   "outputs": [],
   "source": [
    "id = np.arange(r1.size)+1"
   ]
  },
  {
   "cell_type": "code",
   "execution_count": 13,
   "metadata": {},
   "outputs": [
    {
     "name": "stdout",
     "output_type": "stream",
     "text": [
      "ids = [10 18 19 44]\n"
     ]
    }
   ],
   "source": [
    "print(f'ids = {id[s]}')"
   ]
  }
 ],
 "metadata": {
  "kernelspec": {
   "display_name": "Python 3",
   "language": "python",
   "name": "python3"
  },
  "language_info": {
   "codemirror_mode": {
    "name": "ipython",
    "version": 3
   },
   "file_extension": ".py",
   "mimetype": "text/x-python",
   "name": "python",
   "nbconvert_exporter": "python",
   "pygments_lexer": "ipython3",
   "version": "3.8.3"
  }
 },
 "nbformat": 4,
 "nbformat_minor": 2
}

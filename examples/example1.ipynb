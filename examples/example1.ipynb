{
 "cells": [
  {
   "cell_type": "markdown",
   "metadata": {},
   "source": [
    "--- In this example you can see how to read an image and work with an array of pixel values."
   ]
  },
  {
   "cell_type": "code",
   "execution_count": 1,
   "metadata": {},
   "outputs": [],
   "source": [
    "import numpy as np\n",
    "from astropy.io import fits"
   ]
  },
  {
   "cell_type": "code",
   "execution_count": 2,
   "metadata": {},
   "outputs": [],
   "source": [
    "image_dir = 'data' # define image directory relative to this script"
   ]
  },
  {
   "cell_type": "code",
   "execution_count": 3,
   "metadata": {},
   "outputs": [],
   "source": [
    "f = 'f090w' # filter"
   ]
  },
  {
   "cell_type": "code",
   "execution_count": 4,
   "metadata": {},
   "outputs": [],
   "source": [
    "sci = fits.getdata(f'{image_dir}/{f}_sci.fits') # read FITS file data into numpy array"
   ]
  },
  {
   "cell_type": "code",
   "execution_count": 5,
   "metadata": {},
   "outputs": [
    {
     "name": "stdout",
     "output_type": "stream",
     "text": [
      "dimensions of image: (1660, 1660)\n",
      "total number of pixels (from image): 2755600\n"
     ]
    }
   ],
   "source": [
    "print(f'dimensions of image: {sci.shape}') # print the shape (dimensions) of the image\n",
    "print(f'total number of pixels (from image): {sci.size}') # total number of real data pixels"
   ]
  },
  {
   "cell_type": "code",
   "execution_count": 6,
   "metadata": {},
   "outputs": [],
   "source": [
    "pix = sci.flatten() # flatten the image to produce a list of pixels"
   ]
  },
  {
   "cell_type": "code",
   "execution_count": 7,
   "metadata": {},
   "outputs": [
    {
     "name": "stdout",
     "output_type": "stream",
     "text": [
      "total number of pixels (from image): 2755600\n"
     ]
    }
   ],
   "source": [
    "print(f'total number of pixels (from image): {sci.size}') # total number of real data pixels"
   ]
  },
  {
   "cell_type": "code",
   "execution_count": 8,
   "metadata": {},
   "outputs": [
    {
     "name": "stdout",
     "output_type": "stream",
     "text": [
      "total number of pixels (from flattened image): 2755600\n"
     ]
    }
   ],
   "source": [
    "print(f'total number of pixels (from flattened image): {pix.size}') # total number of real data pixels"
   ]
  },
  {
   "cell_type": "code",
   "execution_count": 9,
   "metadata": {},
   "outputs": [
    {
     "name": "stdout",
     "output_type": "stream",
     "text": [
      "minimum: -0.0197665045958026\n",
      "16th percentile: -0.00342464436855558\n",
      "median: 0.0005960011019395482\n",
      "84th percentile: 0.0052105221331145615\n",
      "maximum: 150.62603649207279\n"
     ]
    }
   ],
   "source": [
    "print(f'minimum: {np.min(pix)}') # print the minimum value\n",
    "print(f'16th percentile: {np.percentile(pix, 16)}') # print the 16th percentile\n",
    "print(f'median: {np.median(pix)}') # print the median\n",
    "print(f'84th percentile: {np.percentile(pix, 84)}') # print the 84th percentile\n",
    "print(f'maximum: {np.max(pix)}') # print the maximum"
   ]
  }
 ],
 "metadata": {
  "kernelspec": {
   "display_name": "Python 3",
   "language": "python",
   "name": "python3"
  },
  "language_info": {
   "codemirror_mode": {
    "name": "ipython",
    "version": 3
   },
   "file_extension": ".py",
   "mimetype": "text/x-python",
   "name": "python",
   "nbconvert_exporter": "python",
   "pygments_lexer": "ipython3",
   "version": "3.8.3"
  }
 },
 "nbformat": 4,
 "nbformat_minor": 2
}

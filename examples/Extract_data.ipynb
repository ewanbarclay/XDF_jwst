{
 "cells": [
  {
   "cell_type": "code",
   "execution_count": 1,
   "metadata": {},
   "outputs": [],
   "source": [
    "#import requests\n",
    "#URL = 'https://uc17a2e9a547aa9b3f3188d4a8cf.dl.dropboxusercontent.com/cd/0/get/BnLCUTwdnJA03DMMUgy8rd4w2al-DhoKBkEXZNQdNKiAPsh6rxS5O8JU4LBooZ_DnFgSaOB1T5-ChsTZf4zzXhsVEkmIzWhdvDAv6RdeW79Do8C6Q3Pw0DUDuaiws7be0NAlXuHVlJUncCRAcoL61wexWdBVnyQxRwGdlaMCVlQfSQ/file#'\n",
    "\n",
    "#response = requests.get(URL)\n",
    "#open('data1.tar.gz', 'wb').write(response.content)\n",
    "\n",
    "import tarfile\n",
    "\n",
    "tar = tarfile.open('data.tar.gz')\n",
    "tar.extractall()\n",
    "tar.close()"
   ]
  },
  {
   "cell_type": "code",
   "execution_count": null,
   "metadata": {},
   "outputs": [],
   "source": []
  }
 ],
 "metadata": {
  "kernelspec": {
   "display_name": "Python 3",
   "language": "python",
   "name": "python3"
  },
  "language_info": {
   "codemirror_mode": {
    "name": "ipython",
    "version": 3
   },
   "file_extension": ".py",
   "mimetype": "text/x-python",
   "name": "python",
   "nbconvert_exporter": "python",
   "pygments_lexer": "ipython3",
   "version": "3.8.3"
  }
 },
 "nbformat": 4,
 "nbformat_minor": 4
}
